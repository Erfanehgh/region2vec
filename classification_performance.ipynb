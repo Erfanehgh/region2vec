{
 "cells": [
  {
   "cell_type": "code",
   "execution_count": 1,
   "metadata": {},
   "outputs": [
    {
     "name": "stdout",
     "output_type": "stream",
     "text": [
      "Importing Jupyter notebook from ReadBedFiles.ipynb\n",
      "Importing Jupyter notebook from AIListFunc.ipynb\n"
     ]
    }
   ],
   "source": [
    "from importlib import reload\n",
    "import nbimporter\n",
    "from collections import Counter\n",
    "import ReadBedFiles\n",
    "from ReadBedFiles import readJsonFile, readFiles2Vector, writeJsonFile, convertMat2document, readJsonFile\n",
    "import glob\n",
    "import pandas as pd\n",
    "import numpy as np\n",
    "import time\n",
    "import copy\n",
    "import gc\n",
    "from gensim.models import Word2Vec\n",
    "from sklearn.decomposition import PCA"
   ]
  },
  {
   "cell_type": "code",
   "execution_count": 2,
   "metadata": {},
   "outputs": [],
   "source": [
    "import numpy as np\n",
    "from gensim.models import Word2Vec\n",
    "import json"
   ]
  },
  {
   "cell_type": "code",
   "execution_count": 3,
   "metadata": {},
   "outputs": [],
   "source": [
    "from sklearn import svm\n",
    "from sklearn.metrics import confusion_matrix\n",
    "from sklearn.metrics import f1_score\n",
    "from sklearn.model_selection import cross_val_score\n",
    "import matplotlib.font_manager as font_manager"
   ]
  },
  {
   "cell_type": "code",
   "execution_count": 4,
   "metadata": {},
   "outputs": [],
   "source": [
    "def initialization(clas_type, label, path_train, path_test, path_universe, path_mat, meta_data, sample_of_interest, path_w2v_model):\n",
    "    path_train = path_train.format(clas_type)\n",
    "    path_test = path_test.format(clas_type)\n",
    "    path_universe = path_universe.format(clas_type)\n",
    "    path_mat = path_mat\n",
    "    meta_data = pd.read_csv(meta_data.format(clas_type))\n",
    "    meta_data = meta_data.loc[meta_data[label].isin(sample_of_interest)][['Experiment_ID', label]]\n",
    "    model = Word2Vec.load(path_w2v_model.format(clas_type))\n",
    "    \n",
    "    return path_train, path_test, path_universe, path_mat, meta_data, model"
   ]
  },
  {
   "cell_type": "code",
   "execution_count": 5,
   "metadata": {},
   "outputs": [],
   "source": [
    "def embedding_avg(model, document):\n",
    "    listOfWVs= []\n",
    "    for word in document.split(' '):\n",
    "        if word in model.wv.vocab:\n",
    "            listOfWVs.append(model[word])\n",
    "            \n",
    "    if(len(listOfWVs) == 0):\n",
    "        return np.zeros([100])\n",
    "    return np.mean(listOfWVs, axis=0)\n",
    "\n",
    "def document_embedding_avg(document_Embedding, model):\n",
    "    document_Embedding_avg = {}\n",
    "    for file, doc  in document_Embedding.items():\n",
    "        document_Embedding_avg[file] = embedding_avg(model, doc)\n",
    "    return document_Embedding_avg\n",
    "\n",
    "def create_data4T_SNE(tdMatrix, labels, label, threshld, clm):\n",
    "    tdMatrix =  {k.lower(): v for k, v in tdMatrix.items()}\n",
    "#     print(len((set(labels.Experiment_ID))))\n",
    "    labels.Experiment_ID = list(labels.Experiment_ID.str.lower())\n",
    "#     print(labels.Experiment_ID[0:10])\n",
    "    commonFiles = list(set(tdMatrix.keys())  & set(labels.Experiment_ID)) \n",
    "#     print(len(commonFiles))\n",
    "    y = []\n",
    "    for name in commonFiles:\n",
    "        y.append(labels[labels[clm] == name][label].tolist()[0])\n",
    "    list_of_frequent= y #removeElements(y, threshld)\n",
    "#     print(len(list_of_frequent))\n",
    "    data_X = []\n",
    "    y = []\n",
    "    for name in commonFiles:\n",
    "        y_1 = labels[labels[clm] == name][label].tolist()[0]\n",
    "        if(y_1 in list_of_frequent):\n",
    "            data_X.append(tdMatrix[name])\n",
    "            y.append(y_1)\n",
    "    \n",
    "    return np.array(data_X), y"
   ]
  },
  {
   "cell_type": "markdown",
   "metadata": {},
   "source": [
    "# Read data"
   ]
  },
  {
   "cell_type": "code",
   "execution_count": 36,
   "metadata": {},
   "outputs": [],
   "source": [
    "i = 1"
   ]
  },
  {
   "cell_type": "code",
   "execution_count": 37,
   "metadata": {},
   "outputs": [],
   "source": [
    "clas_types = ['antibody', 'cell', 'tissue']\n",
    "labels = ['antibody', 'cell line', 'tissue']\n",
    "sample_of_interest = [['h3k27ac', 'h3k4me3', 'h3k27me3', 'h3k4me1', 'h3k36me3', 'h3k9me3', 'h3k4me2'],\n",
    "                     ['k562', 'mcf7', 'hek293', 'a549', 'hepg2', 'hct116','lovo', 'gm12878', 'lncap','hela'],\n",
    "                     ['liver', 'peripheral blood', 'primary prostate cancer', 'blood', 'breast','bone marrow', 'kidney']\n",
    "                     ]\n",
    "PCA_flg = False\n",
    "label = labels[i]\n",
    "clas_type = clas_types[i]"
   ]
  },
  {
   "cell_type": "code",
   "execution_count": 38,
   "metadata": {},
   "outputs": [],
   "source": [
    "results = pd.DataFrame(columns = ['dataset','representation',  'pca', 'f1'])"
   ]
  },
  {
   "cell_type": "code",
   "execution_count": 39,
   "metadata": {},
   "outputs": [],
   "source": [
    "path = '/project/shefflab/www/papers/region_embedding/'\n",
    "path_train = path + 'datasets/{}dataset/train/*'\n",
    "path_test = path + 'datasets/{}dataset/test/*'\n",
    "path_universe = './representations/{}/'\n",
    "path_mat = path + 'datasets/term_doc_mat/'\n",
    "meta_data = './meta_data/meta_data_{}.csv'\n",
    "path_w2v_model = path + 'word2vecmodels/word2vec_{}.model'"
   ]
  },
  {
   "cell_type": "code",
   "execution_count": 40,
   "metadata": {},
   "outputs": [],
   "source": [
    "path_train, path_test, path_universe, path_mat, meta_data, model = initialization(clas_type, label, path_train, path_test, path_universe, path_mat, meta_data, sample_of_interest[i], path_w2v_model)\n"
   ]
  },
  {
   "cell_type": "code",
   "execution_count": 43,
   "metadata": {},
   "outputs": [
    {
     "data": {
      "text/plain": [
       "'./representations/cell_universe.txt'"
      ]
     },
     "execution_count": 43,
     "metadata": {},
     "output_type": "execute_result"
    }
   ],
   "source": [
    "path_univ"
   ]
  },
  {
   "cell_type": "code",
   "execution_count": null,
   "metadata": {},
   "outputs": [
    {
     "name": "stdout",
     "output_type": "stream",
     "text": [
      "./representations/cell_universe.txt\n",
      "Reading universe file: Done 2021-04-08 14:57:00.060729\n",
      "7003\n"
     ]
    }
   ],
   "source": [
    "%%time\n",
    "path_univ = './representations/cell_universe.txt'\n",
    "\n",
    "pca = PCA(n_components = 100)\n",
    "\n",
    "print(path_univ)\n",
    "train_files , segmentation_df_train = readFiles2Vector(path_train, path_univ, numberofCores = 4, numOfFiles= 100, PATH = path_train)\n",
    "print(len(train_files))\n",
    "\n",
    "test_files, segmentation_df_test = readFiles2Vector(path_test, path_univ, numberofCores = 4, numOfFiles= 100, PATH = path_test)\n",
    "print(len(test_files))\n",
    "\n",
    "document_Embedding_train = convertMat2document(train_files, segmentation_df_train)\n",
    "document_Embedding_avg_train = document_embedding_avg(document_Embedding_train, model)\n",
    "\n",
    "document_Embedding_test = convertMat2document(test_files, segmentation_df_test)\n",
    "document_Embedding_avg_test = document_embedding_avg(document_Embedding_test, model)\n",
    "\n",
    "X_train, y_train = create_data4T_SNE(document_Embedding_avg_train, (meta_data.loc[(meta_data[label] !='none') & (meta_data[label] !='nan') & (meta_data[label].notna())]), label, 0, 'Experiment_ID')\n",
    "X_test, y_test = create_data4T_SNE(document_Embedding_avg_test, (meta_data.loc[(meta_data[label] !='none') & (meta_data[label] !='nan') & (meta_data[label].notna())]), label, 0, 'Experiment_ID')\n",
    "\n",
    "print(len(X_train), len(y_train))\n",
    "print(len(X_test), len(y_test))\n",
    "\n",
    "clf = svm.SVC(kernel = 'linear')\n",
    "start_time = time.time()\n",
    "clf.fit(X_train, y_train)\n",
    "\n",
    "f1 = f1_score((y_test), clf.predict(X_test), average = 'micro')\n",
    "print(f1_score((y_test), clf.predict(X_test), average = 'micro'))\n",
    "\n",
    "results = pd.concat([results, pd.DataFrame([[clas_type, 'Region-set2vec', PCA_flg, f1]], columns= ['dataset', 'representation',  'pca', 'f1'])], ignore_index=True)\n",
    "\n",
    "results.to_csv('./results/F1_class{}_pca{}.csv'.format(clas_type, PCA_flg), index = False)"
   ]
  },
  {
   "cell_type": "code",
   "execution_count": null,
   "metadata": {},
   "outputs": [],
   "source": []
  }
 ],
 "metadata": {
  "kernelspec": {
   "display_name": "Python [conda env:.conda-py3.7]",
   "language": "python",
   "name": "conda-env-.conda-py3.7-py"
  },
  "language_info": {
   "codemirror_mode": {
    "name": "ipython",
    "version": 3
   },
   "file_extension": ".py",
   "mimetype": "text/x-python",
   "name": "python",
   "nbconvert_exporter": "python",
   "pygments_lexer": "ipython3",
   "version": "3.7.9"
  }
 },
 "nbformat": 4,
 "nbformat_minor": 4
}
