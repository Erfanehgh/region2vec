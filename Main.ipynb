{
 "cells": [
  {
   "cell_type": "code",
   "execution_count": 1,
   "metadata": {},
   "outputs": [
    {
     "name": "stdout",
     "output_type": "stream",
     "text": [
      "Importing Jupyter notebook from ReadBedFiles.ipynb\n",
      "Importing Jupyter notebook from AIListFunc.ipynb\n",
      "Importing Jupyter notebook from Region2vec.ipynb\n"
     ]
    }
   ],
   "source": [
    "#import functions from other files\n",
    "import nbimporter\n",
    "import ReadBedFiles\n",
    "import Region2vec\n"
   ]
  },
  {
   "cell_type": "code",
   "execution_count": 2,
   "metadata": {},
   "outputs": [],
   "source": [
    "# Data path\n",
    "path_bed_files = \"./bedfiles/*\"\n",
    "\n",
    "# Universe path\n",
    "universeFile_path = \"./representations/antibody_universe.txt\""
   ]
  },
  {
   "cell_type": "code",
   "execution_count": 9,
   "metadata": {},
   "outputs": [],
   "source": [
    "# Parameters \n",
    "numberofCores = 4\n",
    "numberofFiles = 100\n",
    "window = 8\n",
    "size = 10\n",
    "min_count = 1000\n",
    "shuffle_repeat = 100"
   ]
  },
  {
   "cell_type": "code",
   "execution_count": 10,
   "metadata": {},
   "outputs": [
    {
     "name": "stdout",
     "output_type": "stream",
     "text": [
      "1 2020-09-11 03:38:39.618468\n",
      "20\n",
      "2 2020-09-11 03:38:40.851163\n",
      "3 2020-09-11 03:38:40.867156\n",
      "20\n"
     ]
    }
   ],
   "source": [
    "# Read bed files \n",
    "term_doc_matrix, segmentation_df = ReadBedFiles.readFiles2Vector(path_bed_files, universeFile_path, numberofCores, numberofFiles)\n",
    "\n",
    "# convert term-doc matrix to Corpus\n",
    "documents = ReadBedFiles.convertMat2document(term_doc_matrix, segmentation_df)\n",
    "\n",
    "# Shuffle documents for training\n",
    "shuffeled_documents = Region2vec.shuffling(documents, shuffle_repeat)\n",
    "\n",
    "# Train word2Vec model\n",
    "model = Region2vec.trainWord2Vec(shuffeled_documents, window, size, min_count )\n"
   ]
  },
  {
   "cell_type": "code",
   "execution_count": 11,
   "metadata": {},
   "outputs": [
    {
     "name": "stdout",
     "output_type": "stream",
     "text": [
      "29\n"
     ]
    }
   ],
   "source": [
    "print(len(model.wv.vocab))"
   ]
  },
  {
   "cell_type": "code",
   "execution_count": null,
   "metadata": {},
   "outputs": [],
   "source": []
  }
 ],
 "metadata": {
  "kernelspec": {
   "display_name": "Python [conda env:.conda-py3.7]",
   "language": "python",
   "name": "conda-env-.conda-py3.7-py"
  },
  "language_info": {
   "codemirror_mode": {
    "name": "ipython",
    "version": 3
   },
   "file_extension": ".py",
   "mimetype": "text/x-python",
   "name": "python",
   "nbconvert_exporter": "python",
   "pygments_lexer": "ipython3",
   "version": "3.7.5"
  }
 },
 "nbformat": 4,
 "nbformat_minor": 4
}
