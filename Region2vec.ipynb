{
 "cells": [
  {
   "cell_type": "code",
   "execution_count": null,
   "metadata": {},
   "outputs": [],
   "source": [
    "from gensim.models import Word2Vec\n",
    "import json\n",
    "import nbimporter\n",
    "import random"
   ]
  },
  {
   "cell_type": "markdown",
   "metadata": {},
   "source": [
    "# Shuffling the documents"
   ]
  },
  {
   "cell_type": "code",
   "execution_count": 2,
   "metadata": {},
   "outputs": [],
   "source": [
    "def shuffling(document_universe, shuffle_repeat):\n",
    "    common_text = [value.split(' ')  for key, value in document_universe.items()]\n",
    "    training_samples = []\n",
    "    training_samples.extend(common_text)\n",
    "\n",
    "    for rn in range(shuffle_repeat):\n",
    "        [(random.shuffle(l)) for l in common_text]\n",
    "        training_samples.extend(common_text)\n",
    "    return training_samples\n",
    "    "
   ]
  },
  {
   "cell_type": "markdown",
   "metadata": {},
   "source": [
    "# Train Word2Vec model"
   ]
  },
  {
   "cell_type": "code",
   "execution_count": null,
   "metadata": {},
   "outputs": [],
   "source": [
    "def trainWord2Vec(training_samples, window, size, min_count):\n",
    "    model = Word2Vec(training_samples, size=size, window=window, min_count=min_count)\n",
    "    return model"
   ]
  },
  {
   "cell_type": "code",
   "execution_count": null,
   "metadata": {},
   "outputs": [],
   "source": []
  },
  {
   "cell_type": "code",
   "execution_count": 5,
   "metadata": {},
   "outputs": [],
   "source": [
    "# file_oi = glob.glob(path_documents + clas_type)[0] # '/document_{}_universe-txt_tr*'.format(clas_type))[0]\n",
    "# with open(file_oi) as j:\n",
    "# #     print(glob.glob(path_documents + '/*')[3])\n",
    "#     document_universe = json.loads(j.read())"
   ]
  },
  {
   "cell_type": "code",
   "execution_count": 7,
   "metadata": {},
   "outputs": [],
   "source": [
    "# model = Word2Vec.load(\"/project/shefflab/data/ChIP-Atlas/word2vecModel/word2vec_shuffle_document_tissue_universe-txt_train.json_19_size100_win100_mincnt_100.model\")"
   ]
  }
 ],
 "metadata": {
  "kernelspec": {
   "display_name": "Python [conda env:.conda-py3.7]",
   "language": "python",
   "name": "conda-env-.conda-py3.7-py"
  },
  "language_info": {
   "codemirror_mode": {
    "name": "ipython",
    "version": 3
   },
   "file_extension": ".py",
   "mimetype": "text/x-python",
   "name": "python",
   "nbconvert_exporter": "python",
   "pygments_lexer": "ipython3",
   "version": "3.7.5"
  }
 },
 "nbformat": 4,
 "nbformat_minor": 4
}
